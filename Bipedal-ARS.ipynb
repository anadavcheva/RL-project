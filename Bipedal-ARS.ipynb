{
  "nbformat": 4,
  "nbformat_minor": 0,
  "metadata": {
    "colab": {
      "name": "Bipedal-walker.ipynb",
      "provenance": []
    },
    "kernelspec": {
      "display_name": "Python 3",
      "name": "python3"
    },
    "language_info": {
      "name": "python"
    }
  },
  "cells": [
    {
      "cell_type": "code",
      "metadata": {
        "colab": {
          "base_uri": "https://localhost:8080/"
        },
        "id": "9pDy3w0tm1bg",
        "outputId": "a6e2c46d-b1f0-4169-a43e-d3513094bb3f"
      },
      "source": [
        "!pip install gym\n",
        "!apt-get update\n",
        "!apt-get -qq -y install xvfb freeglut3-dev ffmpeg> /dev/null\n",
        "!apt-get install xvfb\n",
        "!pip install pyvirtualdisplay\n",
        "!pip -q install pyglet\n",
        "!pip -q install pyopengl"
      ],
      "execution_count": null,
      "outputs": [
        {
          "output_type": "stream",
          "name": "stdout",
          "text": [
            "Requirement already satisfied: gym in /usr/local/lib/python3.7/dist-packages (0.17.3)\n",
            "Requirement already satisfied: pyglet<=1.5.0,>=1.4.0 in /usr/local/lib/python3.7/dist-packages (from gym) (1.5.0)\n",
            "Requirement already satisfied: scipy in /usr/local/lib/python3.7/dist-packages (from gym) (1.4.1)\n",
            "Requirement already satisfied: numpy>=1.10.4 in /usr/local/lib/python3.7/dist-packages (from gym) (1.19.5)\n",
            "Requirement already satisfied: cloudpickle<1.7.0,>=1.2.0 in /usr/local/lib/python3.7/dist-packages (from gym) (1.3.0)\n",
            "Requirement already satisfied: future in /usr/local/lib/python3.7/dist-packages (from pyglet<=1.5.0,>=1.4.0->gym) (0.16.0)\n",
            "Hit:1 https://cloud.r-project.org/bin/linux/ubuntu bionic-cran40/ InRelease\n",
            "Ign:2 https://developer.download.nvidia.com/compute/cuda/repos/ubuntu1804/x86_64  InRelease\n",
            "Hit:3 http://security.ubuntu.com/ubuntu bionic-security InRelease\n",
            "Ign:4 https://developer.download.nvidia.com/compute/machine-learning/repos/ubuntu1804/x86_64  InRelease\n",
            "Hit:5 https://developer.download.nvidia.com/compute/cuda/repos/ubuntu1804/x86_64  Release\n",
            "Hit:6 https://developer.download.nvidia.com/compute/machine-learning/repos/ubuntu1804/x86_64  Release\n",
            "Hit:7 http://ppa.launchpad.net/c2d4u.team/c2d4u4.0+/ubuntu bionic InRelease\n",
            "Hit:8 http://archive.ubuntu.com/ubuntu bionic InRelease\n",
            "Hit:10 http://archive.ubuntu.com/ubuntu bionic-updates InRelease\n",
            "Hit:11 http://ppa.launchpad.net/cran/libgit2/ubuntu bionic InRelease\n",
            "Hit:13 http://archive.ubuntu.com/ubuntu bionic-backports InRelease\n",
            "Hit:14 http://ppa.launchpad.net/deadsnakes/ppa/ubuntu bionic InRelease\n",
            "Hit:15 http://ppa.launchpad.net/graphics-drivers/ppa/ubuntu bionic InRelease\n",
            "Reading package lists... Done\n",
            "Reading package lists... Done\n",
            "Building dependency tree       \n",
            "Reading state information... Done\n",
            "xvfb is already the newest version (2:1.19.6-1ubuntu4.10).\n",
            "0 upgraded, 0 newly installed, 0 to remove and 43 not upgraded.\n",
            "Requirement already satisfied: pyvirtualdisplay in /usr/local/lib/python3.7/dist-packages (2.2)\n",
            "Requirement already satisfied: EasyProcess in /usr/local/lib/python3.7/dist-packages (from pyvirtualdisplay) (0.3)\n"
          ]
        }
      ]
    },
    {
      "cell_type": "code",
      "metadata": {
        "colab": {
          "base_uri": "https://localhost:8080/"
        },
        "id": "wpL2bII5nD-R",
        "outputId": "e49f2d07-9db3-445c-83d3-111073a5a75e"
      },
      "source": [
        "!apt-get install swig\n",
        "!pip install box2d box2d-kengz\n",
        "!pip install pybullet"
      ],
      "execution_count": null,
      "outputs": [
        {
          "output_type": "stream",
          "name": "stdout",
          "text": [
            "Reading package lists... Done\n",
            "Building dependency tree       \n",
            "Reading state information... Done\n",
            "swig is already the newest version (3.0.12-1).\n",
            "0 upgraded, 0 newly installed, 0 to remove and 43 not upgraded.\n",
            "Requirement already satisfied: box2d in /usr/local/lib/python3.7/dist-packages (2.3.10)\n",
            "Requirement already satisfied: box2d-kengz in /usr/local/lib/python3.7/dist-packages (2.3.3)\n",
            "Requirement already satisfied: pybullet in /usr/local/lib/python3.7/dist-packages (3.2.1)\n"
          ]
        }
      ]
    },
    {
      "cell_type": "code",
      "metadata": {
        "id": "4TyRPY8Lnbh0"
      },
      "source": [
        "from pyvirtualdisplay import Display\n",
        "display = Display(visible=0, size=(1024, 768))\n",
        "display.start()\n",
        "import os\n",
        "os.environ[\"DISPLAY\"] = \":\" + str(display.display) + \".\" + str(display.display.imag)"
      ],
      "execution_count": null,
      "outputs": []
    },
    {
      "cell_type": "code",
      "metadata": {
        "id": "S5peSMWwnorY"
      },
      "source": [
        "import os\n",
        "import numpy as np\n",
        "import gym\n",
        "from gym import wrappers"
      ],
      "execution_count": null,
      "outputs": []
    },
    {
      "cell_type": "code",
      "metadata": {
        "id": "1Dhkbz56nq5t"
      },
      "source": [
        "class HP():\n",
        "    # Hyperparameters\n",
        "    def __init__(self,\n",
        "                 nb_steps=200,\n",
        "                 episode_length=2000,\n",
        "                 learning_rate=0.05,\n",
        "                 num_deltas=16,\n",
        "                 num_best_deltas=16,\n",
        "                 noise=0.03,\n",
        "                 seed=1,\n",
        "                 env_name='BipedalWalker-v3',\n",
        "                 record_every=50):\n",
        "\n",
        "        self.nb_steps = nb_steps\n",
        "        self.episode_length = episode_length\n",
        "        self.learning_rate = learning_rate\n",
        "        self.num_deltas = num_deltas\n",
        "        self.num_best_deltas = num_best_deltas\n",
        "        assert self.num_best_deltas <= self.num_deltas\n",
        "        self.noise = noise\n",
        "        self.seed = seed\n",
        "        self.env_name = env_name\n",
        "        self.record_every = record_every"
      ],
      "execution_count": null,
      "outputs": []
    },
    {
      "cell_type": "code",
      "metadata": {
        "id": "qJuzWC3NnvGQ"
      },
      "source": [
        "class Normalizer():\n",
        "    # Normalizes the inputs\n",
        "    def __init__(self, nb_inputs):\n",
        "        self.n = np.zeros(nb_inputs)\n",
        "        self.mean = np.zeros(nb_inputs)\n",
        "        self.mean_diff = np.zeros(nb_inputs)\n",
        "        self.var = np.zeros(nb_inputs)\n",
        "\n",
        "    def observe(self, x):\n",
        "        self.n += 1.0\n",
        "        last_mean = self.mean.copy()\n",
        "        self.mean += (x - self.mean) / self.n\n",
        "        self.mean_diff += (x - last_mean) * (x - self.mean)\n",
        "        self.var = (self.mean_diff / self.n).clip(min = 1e-2)\n",
        "\n",
        "    def normalize(self, inputs):\n",
        "        obs_mean = self.mean\n",
        "        obs_std = np.sqrt(self.var)\n",
        "        return (inputs - obs_mean) / obs_std"
      ],
      "execution_count": null,
      "outputs": []
    },
    {
      "cell_type": "code",
      "metadata": {
        "id": "XH_lcjMenyR0"
      },
      "source": [
        "class Policy():\n",
        "    def __init__(self, input_size, output_size, hp):\n",
        "        self.theta = np.zeros((output_size, input_size))\n",
        "        self.hp = hp\n",
        "\n",
        "    def evaluate(self, input, delta = None, direction = None):\n",
        "        if direction is None:\n",
        "            return self.theta.dot(input)\n",
        "        elif direction == \"+\":\n",
        "            return (self.theta + self.hp.noise * delta).dot(input)\n",
        "        elif direction == \"-\":\n",
        "            return (self.theta - self.hp.noise * delta).dot(input)\n",
        "\n",
        "    def sample_deltas(self):\n",
        "        return [np.random.randn(*self.theta.shape) for _ in range(self.hp.num_deltas)]\n",
        "\n",
        "    def update(self, rollouts, sigma_rewards):\n",
        "        # sigma_rewards is the standard deviation of the rewards\n",
        "        step = np.zeros(self.theta.shape)\n",
        "        for r_pos, r_neg, delta in rollouts:\n",
        "            step += (r_pos - r_neg) * delta\n",
        "        self.theta += self.hp.learning_rate / (self.hp.num_best_deltas * sigma_rewards) * step"
      ],
      "execution_count": null,
      "outputs": []
    },
    {
      "cell_type": "code",
      "metadata": {
        "id": "QYMMhWESn09N"
      },
      "source": [
        "class ARSTrainer():\n",
        "    def __init__(self,\n",
        "                 hp=None,\n",
        "                 input_size=None,\n",
        "                 output_size=None,\n",
        "                 normalizer=None,\n",
        "                 policy=None,\n",
        "                 monitor_dir=None):\n",
        "\n",
        "        self.hp = hp or HP()\n",
        "        np.random.seed(self.hp.seed)\n",
        "        self.env = gym.make(self.hp.env_name)\n",
        "        if monitor_dir is not None:\n",
        "            should_record = lambda i: self.record_video\n",
        "            self.env = wrappers.Monitor(self.env, monitor_dir, video_callable=should_record, force=True)\n",
        "        self.hp.episode_length = self.hp.episode_length\n",
        "        self.input_size = input_size or self.env.observation_space.shape[0]\n",
        "        self.output_size = output_size or self.env.action_space.shape[0]\n",
        "        self.normalizer = normalizer or Normalizer(self.input_size)\n",
        "        self.policy = policy or Policy(self.input_size, self.output_size, self.hp)\n",
        "        self.record_video = False\n",
        "        self.rewards = []\n",
        "        self.mean_rewards = []\n",
        "        self.var_rewards = []\n",
        "\n",
        "    # Explore the policy on one specific direction and over one episode\n",
        "    def explore(self, direction=None, delta=None):\n",
        "        state = self.env.reset()\n",
        "        done = False\n",
        "        num_plays = 0.0\n",
        "        sum_rewards = 0.0\n",
        "        rewards = []\n",
        "        while not done and num_plays < self.hp.episode_length:\n",
        "          self.normalizer.observe(state)\n",
        "          state = self.normalizer.normalize(state)\n",
        "          action = self.policy.evaluate(state, delta, direction)\n",
        "          state, reward, done, _ = self.env.step(action)\n",
        "          reward = max(min(reward, 1), -1)\n",
        "          sum_rewards += reward\n",
        "          num_plays += 1\n",
        "          rewards.append(reward)\n",
        "        self.mean_rewards.append(np.mean(rewards))\n",
        "        self.var_rewards.append(np.var(rewards))\n",
        "        self.rewards.append(np.sum(rewards))\n",
        "        return sum_rewards\n",
        "\n",
        "    def train(self):\n",
        "        for step in range(self.hp.nb_steps):\n",
        "            # initialize the random noise deltas and the positive/negative rewards\n",
        "            deltas = self.policy.sample_deltas()\n",
        "            positive_rewards = [0] * self.hp.num_deltas\n",
        "            negative_rewards = [0] * self.hp.num_deltas\n",
        "\n",
        "            # play an episode each with positive deltas and negative deltas, collect rewards\n",
        "            for k in range(self.hp.num_deltas):\n",
        "                positive_rewards[k] = self.explore(direction=\"+\", delta=deltas[k])\n",
        "                negative_rewards[k] = self.explore(direction=\"-\", delta=deltas[k])\n",
        "                \n",
        "            # Compute the standard deviation of all rewards\n",
        "            sigma_rewards = np.array(positive_rewards + negative_rewards).std()\n",
        "\n",
        "            # Sort the rollouts by the max(r_pos, r_neg) and select the deltas with best rewards\n",
        "            scores = {k:max(r_pos, r_neg) for k,(r_pos,r_neg) in enumerate(zip(positive_rewards, negative_rewards))}\n",
        "            order = sorted(scores.keys(), key = lambda x:scores[x], reverse = True)[:self.hp.num_best_deltas]\n",
        "            rollouts = [(positive_rewards[k], negative_rewards[k], deltas[k]) for k in order]\n",
        "\n",
        "            # Update the policy\n",
        "            self.policy.update(rollouts, sigma_rewards)\n",
        "\n",
        "            # Only record video during evaluation, every n steps\n",
        "            if step % self.hp.record_every == 0:\n",
        "                self.record_video = True\n",
        "            # Play an episode with the new weights and print the score\n",
        "            reward_evaluation = self.explore()\n",
        "            print('Step: ', step, 'Reward: ', reward_evaluation)\n",
        "            self.record_video = False"
      ],
      "execution_count": null,
      "outputs": []
    },
    {
      "cell_type": "code",
      "metadata": {
        "id": "GUHBezB0ofhs"
      },
      "source": [
        "def mkdir(base, name):\n",
        "    path = os.path.join(base, name)\n",
        "    if not os.path.exists(path):\n",
        "        os.makedirs(path)\n",
        "    return path"
      ],
      "execution_count": null,
      "outputs": []
    },
    {
      "cell_type": "code",
      "metadata": {
        "colab": {
          "base_uri": "https://localhost:8080/"
        },
        "id": "Wtdfyie1okh5",
        "outputId": "cab58730-4d36-4123-8f66-524f4afdd371"
      },
      "source": [
        "ENV_NAME = 'BipedalWalker-v3'\n",
        "\n",
        "videos_dir = mkdir('.', 'videos')\n",
        "monitor_dir = mkdir(videos_dir, ENV_NAME)\n",
        "\n",
        "hp = HP(env_name=ENV_NAME)\n",
        "trainer = ARSTrainer(hp=hp, monitor_dir=monitor_dir)\n",
        "rewards = trainer.train()"
      ],
      "execution_count": null,
      "outputs": [
        {
          "output_type": "stream",
          "name": "stderr",
          "text": [
            "/usr/local/lib/python3.7/dist-packages/gym/logger.py:30: UserWarning: \u001b[33mWARN: Box bound precision lowered by casting to float32\u001b[0m\n",
            "  warnings.warn(colorize('%s: %s'%('WARN', msg % args), 'yellow'))\n"
          ]
        },
        {
          "output_type": "stream",
          "name": "stdout",
          "text": [
            "Step:  0 Reward:  3.262325415836396\n",
            "Step:  1 Reward:  2.3655674145720567\n",
            "Step:  2 Reward:  1.6261257600756518\n",
            "Step:  3 Reward:  1.5925030866406065\n",
            "Step:  4 Reward:  -1.4239281156937516\n",
            "Step:  5 Reward:  1.1773744902045404\n",
            "Step:  6 Reward:  2.1449899707919333\n",
            "Step:  7 Reward:  2.4887261102415894\n",
            "Step:  8 Reward:  1.7024099435643447\n",
            "Step:  9 Reward:  0.7300281084773161\n",
            "Step:  10 Reward:  1.446571296734199\n",
            "Step:  11 Reward:  2.0575639453359615\n",
            "Step:  12 Reward:  2.273861121388303\n",
            "Step:  13 Reward:  1.7405509845856568\n",
            "Step:  14 Reward:  1.4488665572997586\n",
            "Step:  15 Reward:  1.489370804296669\n",
            "Step:  16 Reward:  0.6700157953465116\n",
            "Step:  17 Reward:  2.4055554780702804\n",
            "Step:  18 Reward:  2.4722969982740564\n",
            "Step:  19 Reward:  1.5868879659004902\n",
            "Step:  20 Reward:  3.24619822930919\n",
            "Step:  21 Reward:  2.0554118627118116\n",
            "Step:  22 Reward:  2.6626935503729157\n",
            "Step:  23 Reward:  3.3451109130442997\n",
            "Step:  24 Reward:  3.3213367019779305\n",
            "Step:  25 Reward:  3.171522741285333\n",
            "Step:  26 Reward:  2.7322946053325374\n",
            "Step:  27 Reward:  1.6170797483199917\n",
            "Step:  28 Reward:  3.468059710254801\n",
            "Step:  29 Reward:  2.3114260502041226\n",
            "Step:  30 Reward:  0.36664818148945555\n",
            "Step:  31 Reward:  2.417931598045959\n",
            "Step:  32 Reward:  3.3659446055136817\n",
            "Step:  33 Reward:  2.2583692900730052\n",
            "Step:  34 Reward:  3.5384807457167256\n",
            "Step:  35 Reward:  3.271505620811877\n",
            "Step:  36 Reward:  3.836406527618231\n",
            "Step:  37 Reward:  3.3970837050966285\n",
            "Step:  38 Reward:  4.103065776354254\n",
            "Step:  39 Reward:  2.675104002358647\n",
            "Step:  40 Reward:  3.6444494639183223\n",
            "Step:  41 Reward:  3.809577574284045\n",
            "Step:  42 Reward:  3.8746189858298683\n",
            "Step:  43 Reward:  3.371003997504457\n",
            "Step:  44 Reward:  1.9936046353140897\n",
            "Step:  45 Reward:  3.9804718452135788\n",
            "Step:  46 Reward:  3.4135367959342293\n",
            "Step:  47 Reward:  4.113236311742413\n",
            "Step:  48 Reward:  3.093572961404706\n",
            "Step:  49 Reward:  3.0772216925344793\n",
            "Step:  50 Reward:  3.372003184154858\n",
            "Step:  51 Reward:  2.775845463470384\n",
            "Step:  52 Reward:  1.3586186203929436\n",
            "Step:  53 Reward:  -35.57467935885086\n",
            "Step:  54 Reward:  3.73077478773914\n",
            "Step:  55 Reward:  3.759349358767146\n",
            "Step:  56 Reward:  4.198721932926817\n",
            "Step:  57 Reward:  2.969202862039631\n",
            "Step:  58 Reward:  3.148110928442736\n",
            "Step:  59 Reward:  3.5777504561327405\n",
            "Step:  60 Reward:  3.6029559875040764\n",
            "Step:  61 Reward:  4.609768347613718\n",
            "Step:  62 Reward:  3.3253247540583217\n",
            "Step:  63 Reward:  3.785557221193865\n",
            "Step:  64 Reward:  3.9060339342557358\n",
            "Step:  65 Reward:  4.302491301081604\n",
            "Step:  66 Reward:  3.956420963288669\n",
            "Step:  67 Reward:  3.5566220439526752\n",
            "Step:  68 Reward:  3.819321930557619\n",
            "Step:  69 Reward:  5.117976572388092\n",
            "Step:  70 Reward:  5.014072201819466\n",
            "Step:  71 Reward:  4.311878974885972\n",
            "Step:  72 Reward:  4.169841077774088\n",
            "Step:  73 Reward:  2.9099172543811953\n",
            "Step:  74 Reward:  4.995104376669842\n",
            "Step:  75 Reward:  5.74312090060106\n",
            "Step:  76 Reward:  5.201933152443145\n",
            "Step:  77 Reward:  4.2610812406166385\n",
            "Step:  78 Reward:  4.809983836736778\n",
            "Step:  79 Reward:  4.847981058661124\n",
            "Step:  80 Reward:  3.5126076409101863\n",
            "Step:  81 Reward:  3.9980175979290955\n",
            "Step:  82 Reward:  6.162718921878711\n",
            "Step:  83 Reward:  5.685885834322975\n",
            "Step:  84 Reward:  5.30791054690677\n",
            "Step:  85 Reward:  4.951216188286349\n",
            "Step:  86 Reward:  6.819073590660063\n",
            "Step:  87 Reward:  7.344694940795408\n",
            "Step:  88 Reward:  6.642203526749907\n",
            "Step:  89 Reward:  7.212841514499674\n",
            "Step:  90 Reward:  7.099357756004338\n",
            "Step:  91 Reward:  7.332629366476212\n",
            "Step:  92 Reward:  9.461966542282543\n",
            "Step:  93 Reward:  7.053155708161846\n",
            "Step:  94 Reward:  6.73330510787953\n",
            "Step:  95 Reward:  8.73740372776366\n",
            "Step:  96 Reward:  8.643700621819365\n",
            "Step:  97 Reward:  7.50680223238369\n",
            "Step:  98 Reward:  7.027399333539702\n",
            "Step:  99 Reward:  6.153796591912481\n",
            "Step:  100 Reward:  6.166499407250496\n",
            "Step:  101 Reward:  6.345085986802711\n",
            "Step:  102 Reward:  6.194595879594094\n",
            "Step:  103 Reward:  4.425028796480087\n",
            "Step:  104 Reward:  6.699941897503067\n",
            "Step:  105 Reward:  5.611222064022585\n",
            "Step:  106 Reward:  5.200040299799652\n",
            "Step:  107 Reward:  7.707512391298858\n",
            "Step:  108 Reward:  8.204773160297975\n",
            "Step:  109 Reward:  7.283009078234134\n",
            "Step:  110 Reward:  5.914492752901604\n",
            "Step:  111 Reward:  5.943154600163242\n",
            "Step:  112 Reward:  7.2344732862145005\n",
            "Step:  113 Reward:  7.084539644495928\n",
            "Step:  114 Reward:  7.472270800199693\n",
            "Step:  115 Reward:  6.415605660768967\n",
            "Step:  116 Reward:  8.127298425484442\n",
            "Step:  117 Reward:  6.258396527699672\n",
            "Step:  118 Reward:  6.171869646382125\n",
            "Step:  119 Reward:  6.039102211871456\n",
            "Step:  120 Reward:  5.094763058551474\n",
            "Step:  121 Reward:  9.909327421622583\n",
            "Step:  122 Reward:  7.853842374751482\n",
            "Step:  123 Reward:  7.130005215882859\n",
            "Step:  124 Reward:  3.9588545943689404\n",
            "Step:  125 Reward:  6.144174850058222\n",
            "Step:  126 Reward:  7.672105230778062\n",
            "Step:  127 Reward:  9.12403507886986\n",
            "Step:  128 Reward:  8.250695585712132\n",
            "Step:  129 Reward:  7.564544750120335\n",
            "Step:  130 Reward:  5.116765496540943\n",
            "Step:  131 Reward:  5.137409005877716\n",
            "Step:  132 Reward:  8.41902870848307\n",
            "Step:  133 Reward:  8.48611072573278\n",
            "Step:  134 Reward:  8.38632134202226\n",
            "Step:  135 Reward:  7.913263734896814\n",
            "Step:  136 Reward:  8.312959952633939\n",
            "Step:  137 Reward:  8.791417378147274\n",
            "Step:  138 Reward:  5.9959459148875425\n",
            "Step:  139 Reward:  8.846404405494962\n",
            "Step:  140 Reward:  8.9430016241039\n",
            "Step:  141 Reward:  10.0996978556523\n",
            "Step:  142 Reward:  11.329641774456892\n",
            "Step:  143 Reward:  10.341998095880653\n",
            "Step:  144 Reward:  10.313903140256318\n",
            "Step:  145 Reward:  9.715847103292177\n",
            "Step:  146 Reward:  10.302125027705713\n",
            "Step:  147 Reward:  11.063386727991098\n",
            "Step:  148 Reward:  10.8994652086778\n",
            "Step:  149 Reward:  10.956592712523559\n",
            "Step:  150 Reward:  -4.90462746603235\n",
            "Step:  151 Reward:  11.422948552733038\n",
            "Step:  152 Reward:  4.487300117923811\n",
            "Step:  153 Reward:  9.192057845471385\n",
            "Step:  154 Reward:  11.014035419533412\n",
            "Step:  155 Reward:  9.549606253243523\n",
            "Step:  156 Reward:  10.886248604651783\n",
            "Step:  157 Reward:  9.274669082911366\n",
            "Step:  158 Reward:  15.914705963573542\n",
            "Step:  159 Reward:  11.265894075547301\n",
            "Step:  160 Reward:  4.67567138202296\n",
            "Step:  161 Reward:  12.53853269344593\n",
            "Step:  162 Reward:  9.409934033518203\n",
            "Step:  163 Reward:  9.662069916238798\n",
            "Step:  164 Reward:  7.055813332810677\n",
            "Step:  165 Reward:  35.38370150607048\n",
            "Step:  166 Reward:  32.94221015956917\n",
            "Step:  167 Reward:  2.950125182356723\n",
            "Step:  168 Reward:  16.915754192810653\n",
            "Step:  169 Reward:  39.21990261966763\n",
            "Step:  170 Reward:  57.344797301324306\n",
            "Step:  171 Reward:  25.58472981639717\n",
            "Step:  172 Reward:  60.74643406250143\n",
            "Step:  173 Reward:  22.29282429478744\n",
            "Step:  174 Reward:  47.44165467638374\n",
            "Step:  175 Reward:  39.09014286916537\n",
            "Step:  176 Reward:  21.436005792318387\n",
            "Step:  177 Reward:  113.51013767977446\n",
            "Step:  178 Reward:  33.967480273160746\n",
            "Step:  179 Reward:  -16.73679828871129\n",
            "Step:  180 Reward:  88.87362359836476\n",
            "Step:  181 Reward:  22.314645145088267\n",
            "Step:  182 Reward:  26.642311052359616\n",
            "Step:  183 Reward:  28.495970671298963\n",
            "Step:  184 Reward:  66.19748886743946\n",
            "Step:  185 Reward:  19.085357727871326\n",
            "Step:  186 Reward:  42.38330210691612\n",
            "Step:  187 Reward:  53.503431066699896\n",
            "Step:  188 Reward:  44.95314518319852\n",
            "Step:  189 Reward:  44.27913736787644\n",
            "Step:  190 Reward:  116.55173876060057\n",
            "Step:  191 Reward:  45.46888881134284\n",
            "Step:  192 Reward:  159.24552554593876\n",
            "Step:  193 Reward:  120.798346618558\n",
            "Step:  194 Reward:  49.12293938355072\n",
            "Step:  195 Reward:  18.15931699678079\n",
            "Step:  196 Reward:  53.25829944347347\n",
            "Step:  197 Reward:  26.395430768180983\n",
            "Step:  198 Reward:  191.01655934216342\n",
            "Step:  199 Reward:  55.53162423598512\n"
          ]
        }
      ]
    },
    {
      "cell_type": "code",
      "source": [
        "import matplotlib.pyplot as plt\n",
        "\n",
        "plt.figure(figsize=(13,13))\n",
        "plt.plot(trainer.rewards, label=\"Rewards\")\n",
        "plt.plot(trainer.mean_rewards, label=\"Mean\")\n",
        "plt.plot(trainer.var_rewards, label=\"Variance\")\n",
        "plt.xlabel(\"Episodes\")\n",
        "plt.ylabel(\"Rewards\")\n",
        "plt.title(\"Rewards per Episode\")\n",
        "plt.legend(loc=0)\n",
        "plt.show()"
      ],
      "metadata": {
        "id": "-f4t4oGY68X0",
        "colab": {
          "base_uri": "https://localhost:8080/",
          "height": 785
        },
        "outputId": "494fb668-0d4b-40fb-d00c-2f4a62641172"
      },
      "execution_count": null,
      "outputs": [
        {
          "output_type": "display_data",
          "data": {
            "image/png": "[encoded data removed]",
            "text/plain": [
              "<Figure size 936x936 with 1 Axes>"
            ]
          },
          "metadata": {
            "needs_background": "light"
          }
        }
      ]
    },
    {
      "cell_type": "code",
      "metadata": {
        "id": "gwDEOWnqh3Ii",
        "colab": {
          "base_uri": "https://localhost:8080/"
        },
        "outputId": "1944b49d-6b33-4669-fc64-707a37d69ced"
      },
      "source": [
        "!ls videos/{ENV_NAME}"
      ],
      "execution_count": null,
      "outputs": [
        {
          "output_type": "stream",
          "name": "stdout",
          "text": [
            "openaigym.video.0.8333.video000032.meta.json\n",
            "openaigym.video.0.8333.video000032.mp4\n",
            "openaigym.video.0.8333.video001682.meta.json\n",
            "openaigym.video.0.8333.video001682.mp4\n",
            "openaigym.video.0.8333.video003332.meta.json\n",
            "openaigym.video.0.8333.video003332.mp4\n",
            "openaigym.video.0.8333.video004982.meta.json\n",
            "openaigym.video.0.8333.video004982.mp4\n"
          ]
        }
      ]
    },
    {
      "cell_type": "code",
      "metadata": {
        "id": "f37d-LbxiCBG",
        "colab": {
          "base_uri": "https://localhost:8080/",
          "height": 17
        },
        "outputId": "5e0f5d33-9f2d-45b6-a01c-272711f9317a"
      },
      "source": [
        "from google.colab import files\n",
        "import glob\n",
        "\n",
        "for file in glob.glob(\"videos/{}/openaigym.video.*.mp4\".format(ENV_NAME)):\n",
        "  files.download(file)"
      ],
      "execution_count": null,
      "outputs": [
        {
          "output_type": "display_data",
          "data": {
            "application/javascript": [
              "\n",
              "    async function download(id, filename, size) {\n",
              "      if (!google.colab.kernel.accessAllowed) {\n",
              "        return;\n",
              "      }\n",
              "      const div = document.createElement('div');\n",
              "      const label = document.createElement('label');\n",
              "      label.textContent = `Downloading \"${filename}\": `;\n",
              "      div.appendChild(label);\n",
              "      const progress = document.createElement('progress');\n",
              "      progress.max = size;\n",
              "      div.appendChild(progress);\n",
              "      document.body.appendChild(div);\n",
              "\n",
              "      const buffers = [];\n",
              "      let downloaded = 0;\n",
              "\n",
              "      const channel = await google.colab.kernel.comms.open(id);\n",
              "      // Send a message to notify the kernel that we're ready.\n",
              "      channel.send({})\n",
              "\n",
              "      for await (const message of channel.messages) {\n",
              "        // Send a message to notify the kernel that we're ready.\n",
              "        channel.send({})\n",
              "        if (message.buffers) {\n",
              "          for (const buffer of message.buffers) {\n",
              "            buffers.push(buffer);\n",
              "            downloaded += buffer.byteLength;\n",
              "            progress.value = downloaded;\n",
              "          }\n",
              "        }\n",
              "      }\n",
              "      const blob = new Blob(buffers, {type: 'application/binary'});\n",
              "      const a = document.createElement('a');\n",
              "      a.href = window.URL.createObjectURL(blob);\n",
              "      a.download = filename;\n",
              "      div.appendChild(a);\n",
              "      a.click();\n",
              "      div.remove();\n",
              "    }\n",
              "  "
            ],
            "text/plain": [
              "<IPython.core.display.Javascript object>"
            ]
          },
          "metadata": {}
        },
        {
          "output_type": "display_data",
          "data": {
            "application/javascript": [
              "download(\"download_969f21e4-bdc8-4720-875e-2c0e91d59757\", \"openaigym.video.0.8333.video004982.mp4\", 94148)"
            ],
            "text/plain": [
              "<IPython.core.display.Javascript object>"
            ]
          },
          "metadata": {}
        },
        {
          "output_type": "display_data",
          "data": {
            "application/javascript": [
              "\n",
              "    async function download(id, filename, size) {\n",
              "      if (!google.colab.kernel.accessAllowed) {\n",
              "        return;\n",
              "      }\n",
              "      const div = document.createElement('div');\n",
              "      const label = document.createElement('label');\n",
              "      label.textContent = `Downloading \"${filename}\": `;\n",
              "      div.appendChild(label);\n",
              "      const progress = document.createElement('progress');\n",
              "      progress.max = size;\n",
              "      div.appendChild(progress);\n",
              "      document.body.appendChild(div);\n",
              "\n",
              "      const buffers = [];\n",
              "      let downloaded = 0;\n",
              "\n",
              "      const channel = await google.colab.kernel.comms.open(id);\n",
              "      // Send a message to notify the kernel that we're ready.\n",
              "      channel.send({})\n",
              "\n",
              "      for await (const message of channel.messages) {\n",
              "        // Send a message to notify the kernel that we're ready.\n",
              "        channel.send({})\n",
              "        if (message.buffers) {\n",
              "          for (const buffer of message.buffers) {\n",
              "            buffers.push(buffer);\n",
              "            downloaded += buffer.byteLength;\n",
              "            progress.value = downloaded;\n",
              "          }\n",
              "        }\n",
              "      }\n",
              "      const blob = new Blob(buffers, {type: 'application/binary'});\n",
              "      const a = document.createElement('a');\n",
              "      a.href = window.URL.createObjectURL(blob);\n",
              "      a.download = filename;\n",
              "      div.appendChild(a);\n",
              "      a.click();\n",
              "      div.remove();\n",
              "    }\n",
              "  "
            ],
            "text/plain": [
              "<IPython.core.display.Javascript object>"
            ]
          },
          "metadata": {}
        },
        {
          "output_type": "display_data",
          "data": {
            "application/javascript": [
              "download(\"download_563dc5b3-bed5-4cc9-a5c9-f6089747a4a8\", \"openaigym.video.0.8333.video000032.mp4\", 29371)"
            ],
            "text/plain": [
              "<IPython.core.display.Javascript object>"
            ]
          },
          "metadata": {}
        },
        {
          "output_type": "display_data",
          "data": {
            "application/javascript": [
              "\n",
              "    async function download(id, filename, size) {\n",
              "      if (!google.colab.kernel.accessAllowed) {\n",
              "        return;\n",
              "      }\n",
              "      const div = document.createElement('div');\n",
              "      const label = document.createElement('label');\n",
              "      label.textContent = `Downloading \"${filename}\": `;\n",
              "      div.appendChild(label);\n",
              "      const progress = document.createElement('progress');\n",
              "      progress.max = size;\n",
              "      div.appendChild(progress);\n",
              "      document.body.appendChild(div);\n",
              "\n",
              "      const buffers = [];\n",
              "      let downloaded = 0;\n",
              "\n",
              "      const channel = await google.colab.kernel.comms.open(id);\n",
              "      // Send a message to notify the kernel that we're ready.\n",
              "      channel.send({})\n",
              "\n",
              "      for await (const message of channel.messages) {\n",
              "        // Send a message to notify the kernel that we're ready.\n",
              "        channel.send({})\n",
              "        if (message.buffers) {\n",
              "          for (const buffer of message.buffers) {\n",
              "            buffers.push(buffer);\n",
              "            downloaded += buffer.byteLength;\n",
              "            progress.value = downloaded;\n",
              "          }\n",
              "        }\n",
              "      }\n",
              "      const blob = new Blob(buffers, {type: 'application/binary'});\n",
              "      const a = document.createElement('a');\n",
              "      a.href = window.URL.createObjectURL(blob);\n",
              "      a.download = filename;\n",
              "      div.appendChild(a);\n",
              "      a.click();\n",
              "      div.remove();\n",
              "    }\n",
              "  "
            ],
            "text/plain": [
              "<IPython.core.display.Javascript object>"
            ]
          },
          "metadata": {}
        },
        {
          "output_type": "display_data",
          "data": {
            "application/javascript": [
              "download(\"download_93ba968a-c990-44f4-b376-252166bfec26\", \"openaigym.video.0.8333.video003332.mp4\", 40550)"
            ],
            "text/plain": [
              "<IPython.core.display.Javascript object>"
            ]
          },
          "metadata": {}
        },
        {
          "output_type": "display_data",
          "data": {
            "application/javascript": [
              "\n",
              "    async function download(id, filename, size) {\n",
              "      if (!google.colab.kernel.accessAllowed) {\n",
              "        return;\n",
              "      }\n",
              "      const div = document.createElement('div');\n",
              "      const label = document.createElement('label');\n",
              "      label.textContent = `Downloading \"${filename}\": `;\n",
              "      div.appendChild(label);\n",
              "      const progress = document.createElement('progress');\n",
              "      progress.max = size;\n",
              "      div.appendChild(progress);\n",
              "      document.body.appendChild(div);\n",
              "\n",
              "      const buffers = [];\n",
              "      let downloaded = 0;\n",
              "\n",
              "      const channel = await google.colab.kernel.comms.open(id);\n",
              "      // Send a message to notify the kernel that we're ready.\n",
              "      channel.send({})\n",
              "\n",
              "      for await (const message of channel.messages) {\n",
              "        // Send a message to notify the kernel that we're ready.\n",
              "        channel.send({})\n",
              "        if (message.buffers) {\n",
              "          for (const buffer of message.buffers) {\n",
              "            buffers.push(buffer);\n",
              "            downloaded += buffer.byteLength;\n",
              "            progress.value = downloaded;\n",
              "          }\n",
              "        }\n",
              "      }\n",
              "      const blob = new Blob(buffers, {type: 'application/binary'});\n",
              "      const a = document.createElement('a');\n",
              "      a.href = window.URL.createObjectURL(blob);\n",
              "      a.download = filename;\n",
              "      div.appendChild(a);\n",
              "      a.click();\n",
              "      div.remove();\n",
              "    }\n",
              "  "
            ],
            "text/plain": [
              "<IPython.core.display.Javascript object>"
            ]
          },
          "metadata": {}
        },
        {
          "output_type": "display_data",
          "data": {
            "application/javascript": [
              "download(\"download_a8ce4ba0-ba49-4cb6-91fa-8ba34d244029\", \"openaigym.video.0.8333.video001682.mp4\", 34280)"
            ],
            "text/plain": [
              "<IPython.core.display.Javascript object>"
            ]
          },
          "metadata": {}
        }
      ]
    }
  ]
}